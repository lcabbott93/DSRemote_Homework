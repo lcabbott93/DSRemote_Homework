{
 "cells": [
  {
   "cell_type": "code",
   "execution_count": null,
   "metadata": {
    "collapsed": true
   },
   "outputs": [],
   "source": [
    "#The data I will be using is located here https://www.kaggle.com/c/house-prices-advanced-regression-techniques/data\n",
    "#With this data, I will be able to look at home prices, quality of the homes, lot size, and several other features\n",
    "#in order to predict purchase\n",
    "\n",
    "#I will need to clean the data as there are a lot of NaN, '', or Null values. "
   ]
  }
 ],
 "metadata": {
  "kernelspec": {
   "display_name": "Python 3",
   "language": "python",
   "name": "python3"
  },
  "language_info": {
   "codemirror_mode": {
    "name": "ipython",
    "version": 3
   },
   "file_extension": ".py",
   "mimetype": "text/x-python",
   "name": "python",
   "nbconvert_exporter": "python",
   "pygments_lexer": "ipython3",
   "version": "3.6.1"
  }
 },
 "nbformat": 4,
 "nbformat_minor": 2
}
