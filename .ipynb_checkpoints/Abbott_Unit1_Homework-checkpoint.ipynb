{
 "cells": [
  {
   "cell_type": "markdown",
   "metadata": {},
   "source": [
    "<img src=\"http://imgur.com/1ZcRyrc.png\" style=\"float: left; margin: 20px; height: 55px\">\n",
    "\n",
    "# Project 1: Python Coding Exercises\n",
    "\n",
    "_Authors: Joseph Nelson (DC) _\n",
    "\n",
    "---"
   ]
  },
  {
   "cell_type": "markdown",
   "metadata": {},
   "source": [
    "The following code challenges are drawn from common exercises used in technical interviews.\n",
    "\n",
    "Note there may be several ways to approach each challenge!"
   ]
  },
  {
   "cell_type": "markdown",
   "metadata": {},
   "source": [
    "### Challenge 1.1: Largest Palindrome\n",
    "A palindromic number reads the same both ways. For example, 1234321 is a palindrome. The largest palindrome made from the product of two 2-digit numbers is 9009 = 91 × 99. Find the largest palindrome made from the product of two 3-digit numbers."
   ]
  },
  {
   "cell_type": "code",
   "execution_count": 1,
   "metadata": {},
   "outputs": [
    {
     "ename": "SyntaxError",
     "evalue": "invalid syntax (<ipython-input-1-ea1a161e0053>, line 3)",
     "output_type": "error",
     "traceback": [
      "\u001b[0;36m  File \u001b[0;32m\"<ipython-input-1-ea1a161e0053>\"\u001b[0;36m, line \u001b[0;32m3\u001b[0m\n\u001b[0;31m    def large_palindrom(bottom, top):\u001b[0m\n\u001b[0m      ^\u001b[0m\n\u001b[0;31mSyntaxError\u001b[0m\u001b[0;31m:\u001b[0m invalid syntax\n"
     ]
    }
   ],
   "source": [
    "def ch_palindrome(number):\n",
    "    return str(number) == str(number)[::-1]\n",
    "def large_pal(bottom, top):\n",
    "    l = 0\n",
    "    for x in range(top, bottom, -1):\n",
    "        for y in range(top, bottom, -1):\n",
    "            if ch_palindrome(x * y):\n",
    "                if x * y > l:\n",
    "                    l = x * y\n",
    "    return l\n",
    "print large_pal(100,999)"
   ]
  },
  {
   "cell_type": "markdown",
   "metadata": {},
   "source": [
    "\n",
    "### Challenge 1.2: Summation of primes\n",
    "The sum of the primes below 10 is 2 + 3 + 5 + 7 = 17. Find the sum of all the primes below two-thousand."
   ]
  },
  {
   "cell_type": "code",
   "execution_count": null,
   "metadata": {
    "collapsed": true
   },
   "outputs": [],
   "source": [
    "sieve = [True] * 2000\n",
    "def prime_num(sieve, l):\n",
    "    for i in xrange(x+x, len(sieve), x):\n",
    "        sieve[i] = False\n",
    "\n",
    "for x in xrange(2, 2000):\n",
    "    if sieve[p]: mark(sieve, p)\n",
    "\n",
    "print sum(i for i in xrange(2, len(sieve)) if sieve[i])"
   ]
  },
  {
   "cell_type": "markdown",
   "metadata": {},
   "source": [
    "### Challenge 1.3: Multiples of 3 and 5\n",
    "If we list all the natural numbers below 10 that are multiples of 3 or 5, we get 3, 5, 6 and 9. The sum of these multiples is 23. Find the sum of all the multiples of 3 or 5 below 1000."
   ]
  },
  {
   "cell_type": "code",
   "execution_count": null,
   "metadata": {
    "collapsed": true
   },
   "outputs": [],
   "source": [
    "total2 = 0\n",
    "for i in range(1000):\n",
    "    if i % 3 == 0 or i % 5 == 0:\n",
    "        total2 = total2 + i\n",
    "print total2"
   ]
  },
  {
   "cell_type": "markdown",
   "metadata": {},
   "source": [
    "### Challenge 2: Fizz Buzz\n",
    "Write a program that prints all the numbers from 1 to 100. For multiples of 3, instead of the number, print \"Fizz\", for multiples of 5 print \"Buzz\". For numbers which are multiples of both 3 and 5, print \"FizzBuzz\". Bonus: If that's too easy, create three unique solutions. Sometimes you'll encounter unexpected constraints, so make sure you're able to think creatively!"
   ]
  },
  {
   "cell_type": "code",
   "execution_count": null,
   "metadata": {
    "collapsed": true
   },
   "outputs": [],
   "source": [
    "for n in range (1, 100):\n",
    "    if n % 3 == 0 and n % 5 == 0:\n",
    "        print \"Fizzbuzz\"\n",
    "    elif n % 3 == 0:\n",
    "        print \"Fizz\"\n",
    "    elif n % 5 == 0:\n",
    "        print \"buzz\"\n",
    "    else:\n",
    "        print n"
   ]
  },
  {
   "cell_type": "markdown",
   "metadata": {},
   "source": [
    "### Challenge 3: String Compressor\n",
    "Implement a method to perform basic string compression using the counts of repeated characters. (This is called Run-Length Encoding.) For example, the string 'aabcccccaaa' would become a2b1c5a3. If the “compressed” string would not become smaller than the original string, your method should return the original string. You can assume the string has only uppercase and lowercase letters (a-z). Specify whether your solution is case-sensitive or case-insensitive, and what you would need to change to make it the other."
   ]
  },
  {
   "cell_type": "code",
   "execution_count": null,
   "metadata": {
    "collapsed": true
   },
   "outputs": [],
   "source": [
    "sentence = raw_input(\"Enter your string of characters: \")\n",
    "\n",
    "print sentence\n",
    "\n",
    "def string_compress(string):\n",
    "    string = list(string)\n",
    "    str1 = []\n",
    "    laststr = string[0]\n",
    "    count = 1\n",
    "    for x in xrange(1, len(string)):\n",
    "        if string[x] == laststr:\n",
    "            count += 1\n",
    "        else:\n",
    "            str1.append(laststr)\n",
    "            str1.append(str(count))\n",
    "            laststr = string[x]\n",
    "            count = 1\n",
    "    str1.append(laststr)\n",
    "    str1.append(str(count))\n",
    "    return ''.join(str1)\n",
    "\n",
    "print string_compress(sentence)"
   ]
  }
 ],
 "metadata": {
  "anaconda-cloud": {},
  "kernelspec": {
   "display_name": "Python 2 (py2env)",
   "language": "python",
   "name": "py2env"
  },
  "language_info": {
   "codemirror_mode": {
    "name": "ipython",
    "version": 2
   },
   "file_extension": ".py",
   "mimetype": "text/x-python",
   "name": "python",
   "nbconvert_exporter": "python",
   "pygments_lexer": "ipython2",
   "version": "2.7.13"
  }
 },
 "nbformat": 4,
 "nbformat_minor": 2
}
