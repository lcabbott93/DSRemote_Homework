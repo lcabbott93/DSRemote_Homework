{
 "cells": [
  {
   "cell_type": "markdown",
   "metadata": {},
   "source": [
    "<img src=\"http://imgur.com/1ZcRyrc.png\" style=\"float: left; margin: 20px; height: 55px\">\n",
    "\n",
    "# Project 1: Python Coding Exercises\n",
    "\n",
    "_Authors: Joseph Nelson (DC) _\n",
    "\n",
    "---"
   ]
  },
  {
   "cell_type": "markdown",
   "metadata": {},
   "source": [
    "The following code challenges are drawn from common exercises used in technical interviews.\n",
    "\n",
    "Note there may be several ways to approach each challenge!"
   ]
  },
  {
   "cell_type": "markdown",
   "metadata": {},
   "source": [
    "### Challenge 1.1: Largest Palindrome\n",
    "A palindromic number reads the same both ways. For example, 1234321 is a palindrome. The largest palindrome made from the product of two 2-digit numbers is 9009 = 91 × 99. Find the largest palindrome made from the product of two 3-digit numbers."
   ]
  },
  {
   "cell_type": "code",
   "execution_count": 1,
   "metadata": {},
   "outputs": [
    {
     "name": "stdout",
     "output_type": "stream",
     "text": [
      "906609\n"
     ]
    }
   ],
   "source": [
    "def ch_palindrome(number):\n",
    "    return str(number) == str(number)[::-1]\n",
    "def large_pal(bottom, top):\n",
    "    l = 0\n",
    "    for x in range(top, bottom, -1):\n",
    "        for y in range(top, bottom, -1):\n",
    "            if ch_palindrome(x * y):\n",
    "                if x * y > l:\n",
    "                    l = x * y\n",
    "    return l\n",
    "print large_pal(100,999)"
   ]
  },
  {
   "cell_type": "markdown",
   "metadata": {},
   "source": [
    "\n",
    "### Challenge 1.2: Summation of primes\n",
    "The sum of the primes below 10 is 2 + 3 + 5 + 7 = 17. Find the sum of all the primes below two-thousand."
   ]
  },
  {
   "cell_type": "code",
   "execution_count": 7,
   "metadata": {},
   "outputs": [
    {
     "name": "stdout",
     "output_type": "stream",
     "text": [
      "277050\n"
     ]
    }
   ],
   "source": [
    "ieve = [True] * 2000 # Sieve is faster for 2M primes\n",
    "def prime_num(sieve, x):\n",
    "    for i in xrange(x+x, len(sieve), x):\n",
    "        sieve[i] = False\n",
    "\n",
    "for x in xrange(2, int(len(sieve) ** 0.5) + 1):\n",
    "    if sieve[x]: prime_num(sieve, x)\n",
    "\n",
    "print sum(i for i in xrange(2, len(sieve)) if sieve[i])"
   ]
  },
  {
   "cell_type": "markdown",
   "metadata": {},
   "source": [
    "### Challenge 1.3: Multiples of 3 and 5\n",
    "If we list all the natural numbers below 10 that are multiples of 3 or 5, we get 3, 5, 6 and 9. The sum of these multiples is 23. Find the sum of all the multiples of 3 or 5 below 1000."
   ]
  },
  {
   "cell_type": "code",
   "execution_count": 8,
   "metadata": {},
   "outputs": [
    {
     "name": "stdout",
     "output_type": "stream",
     "text": [
      "233168\n"
     ]
    }
   ],
   "source": [
    "total2 = 0\n",
    "for i in range(1000):\n",
    "    if i % 3 == 0 or i % 5 == 0:\n",
    "        total2 = total2 + i\n",
    "print total2"
   ]
  },
  {
   "cell_type": "markdown",
   "metadata": {},
   "source": [
    "### Challenge 2: Fizz Buzz\n",
    "Write a program that prints all the numbers from 1 to 100. For multiples of 3, instead of the number, print \"Fizz\", for multiples of 5 print \"Buzz\". For numbers which are multiples of both 3 and 5, print \"FizzBuzz\". Bonus: If that's too easy, create three unique solutions. Sometimes you'll encounter unexpected constraints, so make sure you're able to think creatively!"
   ]
  },
  {
   "cell_type": "code",
   "execution_count": 9,
   "metadata": {},
   "outputs": [
    {
     "name": "stdout",
     "output_type": "stream",
     "text": [
      "1\n",
      "2\n",
      "Fizz\n",
      "4\n",
      "buzz\n",
      "Fizz\n",
      "7\n",
      "8\n",
      "Fizz\n",
      "buzz\n",
      "11\n",
      "Fizz\n",
      "13\n",
      "14\n",
      "Fizzbuzz\n",
      "16\n",
      "17\n",
      "Fizz\n",
      "19\n",
      "buzz\n",
      "Fizz\n",
      "22\n",
      "23\n",
      "Fizz\n",
      "buzz\n",
      "26\n",
      "Fizz\n",
      "28\n",
      "29\n",
      "Fizzbuzz\n",
      "31\n",
      "32\n",
      "Fizz\n",
      "34\n",
      "buzz\n",
      "Fizz\n",
      "37\n",
      "38\n",
      "Fizz\n",
      "buzz\n",
      "41\n",
      "Fizz\n",
      "43\n",
      "44\n",
      "Fizzbuzz\n",
      "46\n",
      "47\n",
      "Fizz\n",
      "49\n",
      "buzz\n",
      "Fizz\n",
      "52\n",
      "53\n",
      "Fizz\n",
      "buzz\n",
      "56\n",
      "Fizz\n",
      "58\n",
      "59\n",
      "Fizzbuzz\n",
      "61\n",
      "62\n",
      "Fizz\n",
      "64\n",
      "buzz\n",
      "Fizz\n",
      "67\n",
      "68\n",
      "Fizz\n",
      "buzz\n",
      "71\n",
      "Fizz\n",
      "73\n",
      "74\n",
      "Fizzbuzz\n",
      "76\n",
      "77\n",
      "Fizz\n",
      "79\n",
      "buzz\n",
      "Fizz\n",
      "82\n",
      "83\n",
      "Fizz\n",
      "buzz\n",
      "86\n",
      "Fizz\n",
      "88\n",
      "89\n",
      "Fizzbuzz\n",
      "91\n",
      "92\n",
      "Fizz\n",
      "94\n",
      "buzz\n",
      "Fizz\n",
      "97\n",
      "98\n",
      "Fizz\n"
     ]
    }
   ],
   "source": [
    "for n in range (1, 100):\n",
    "    if n % 3 == 0 and n % 5 == 0:\n",
    "        print \"Fizzbuzz\"\n",
    "    elif n % 3 == 0:\n",
    "        print \"Fizz\"\n",
    "    elif n % 5 == 0:\n",
    "        print \"Buzz\"\n",
    "    else:\n",
    "        print n"
   ]
  },
  {
   "cell_type": "markdown",
   "metadata": {},
   "source": [
    "### Challenge 3: String Compressor\n",
    "Implement a method to perform basic string compression using the counts of repeated characters. (This is called Run-Length Encoding.) For example, the string 'aabcccccaaa' would become a2b1c5a3. If the “compressed” string would not become smaller than the original string, your method should return the original string. You can assume the string has only uppercase and lowercase letters (a-z). Specify whether your solution is case-sensitive or case-insensitive, and what you would need to change to make it the other."
   ]
  },
  {
   "cell_type": "code",
   "execution_count": null,
   "metadata": {
    "collapsed": true
   },
   "outputs": [],
   "source": [
    "sentence = raw_input(\"Enter your string of characters: \")\n",
    "\n",
    "print sentence\n",
    "\n",
    "def string_compress(string):\n",
    "    string = list(string)\n",
    "    str1 = []\n",
    "    laststr = string[0]\n",
    "    count = 1\n",
    "    for x in xrange(1, len(string)):\n",
    "        if string[x] == laststr:\n",
    "            count += 1\n",
    "        else:\n",
    "            str1.append(laststr)\n",
    "            str1.append(str(count))\n",
    "            laststr = string[x]\n",
    "            count = 1\n",
    "    str1.append(laststr)\n",
    "    str1.append(str(count))\n",
    "    return ''.join(str1)\n",
    "\n",
    "print string_compress(sentence)"
   ]
  }
 ],
 "metadata": {
  "anaconda-cloud": {},
  "kernelspec": {
   "display_name": "Python 2 (py2env)",
   "language": "python",
   "name": "py2env"
  },
  "language_info": {
   "codemirror_mode": {
    "name": "ipython",
    "version": 2
   },
   "file_extension": ".py",
   "mimetype": "text/x-python",
   "name": "python",
   "nbconvert_exporter": "python",
   "pygments_lexer": "ipython2",
   "version": "2.7.13"
  }
 },
 "nbformat": 4,
 "nbformat_minor": 2
}
